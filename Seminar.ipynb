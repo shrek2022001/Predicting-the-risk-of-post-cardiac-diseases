{
 "cells": [
  {
   "cell_type": "code",
   "execution_count": 66,
   "id": "0d57ccdf",
   "metadata": {},
   "outputs": [],
   "source": [
    "import pandas as pd\n",
    "dataset = pd.read_csv(\"C:\\\\1Shreya\\\\Seminar\\\\Datasets\\\\Finaldataset.csv\")"
   ]
  },
  {
   "cell_type": "code",
   "execution_count": 131,
   "id": "4f724c34",
   "metadata": {},
   "outputs": [],
   "source": [
    "import numpy as np\n",
    "import copy\n",
    "import seaborn as sns\n",
    "import matplotlib.pyplot as plt\n",
    "import math\n",
    "from sklearn.metrics import accuracy_score"
   ]
  },
  {
   "cell_type": "code",
   "execution_count": 68,
   "id": "d71914c6",
   "metadata": {},
   "outputs": [
    {
     "data": {
      "text/html": [
       "<div>\n",
       "<style scoped>\n",
       "    .dataframe tbody tr th:only-of-type {\n",
       "        vertical-align: middle;\n",
       "    }\n",
       "\n",
       "    .dataframe tbody tr th {\n",
       "        vertical-align: top;\n",
       "    }\n",
       "\n",
       "    .dataframe thead th {\n",
       "        text-align: right;\n",
       "    }\n",
       "</style>\n",
       "<table border=\"1\" class=\"dataframe\">\n",
       "  <thead>\n",
       "    <tr style=\"text-align: right;\">\n",
       "      <th></th>\n",
       "      <th>Age</th>\n",
       "      <th>Gender</th>\n",
       "      <th>Diabetes</th>\n",
       "      <th>Hypertension</th>\n",
       "      <th>Cardiovascular disease</th>\n",
       "      <th>Pneumonia</th>\n",
       "      <th>Renal_failure</th>\n",
       "      <th>Obesity</th>\n",
       "      <th>Bowel</th>\n",
       "      <th>Respiratory</th>\n",
       "      <th>hepatatis</th>\n",
       "      <th>Cardiovascular_Diseases</th>\n",
       "    </tr>\n",
       "  </thead>\n",
       "  <tbody>\n",
       "    <tr>\n",
       "      <th>0</th>\n",
       "      <td>72</td>\n",
       "      <td>Male</td>\n",
       "      <td>1</td>\n",
       "      <td>1</td>\n",
       "      <td>0</td>\n",
       "      <td>0</td>\n",
       "      <td>0</td>\n",
       "      <td>1</td>\n",
       "      <td>0</td>\n",
       "      <td>0</td>\n",
       "      <td>0</td>\n",
       "      <td>1</td>\n",
       "    </tr>\n",
       "    <tr>\n",
       "      <th>1</th>\n",
       "      <td>72</td>\n",
       "      <td>Male</td>\n",
       "      <td>0</td>\n",
       "      <td>0</td>\n",
       "      <td>0</td>\n",
       "      <td>0</td>\n",
       "      <td>0</td>\n",
       "      <td>0</td>\n",
       "      <td>0</td>\n",
       "      <td>0</td>\n",
       "      <td>0</td>\n",
       "      <td>0</td>\n",
       "    </tr>\n",
       "    <tr>\n",
       "      <th>2</th>\n",
       "      <td>62</td>\n",
       "      <td>Male</td>\n",
       "      <td>1</td>\n",
       "      <td>1</td>\n",
       "      <td>1</td>\n",
       "      <td>0</td>\n",
       "      <td>0</td>\n",
       "      <td>0</td>\n",
       "      <td>0</td>\n",
       "      <td>0</td>\n",
       "      <td>0</td>\n",
       "      <td>0</td>\n",
       "    </tr>\n",
       "    <tr>\n",
       "      <th>3</th>\n",
       "      <td>68</td>\n",
       "      <td>Male</td>\n",
       "      <td>0</td>\n",
       "      <td>0</td>\n",
       "      <td>0</td>\n",
       "      <td>0</td>\n",
       "      <td>0</td>\n",
       "      <td>0</td>\n",
       "      <td>0</td>\n",
       "      <td>0</td>\n",
       "      <td>0</td>\n",
       "      <td>0</td>\n",
       "    </tr>\n",
       "    <tr>\n",
       "      <th>4</th>\n",
       "      <td>60</td>\n",
       "      <td>Male</td>\n",
       "      <td>0</td>\n",
       "      <td>0</td>\n",
       "      <td>0</td>\n",
       "      <td>1</td>\n",
       "      <td>1</td>\n",
       "      <td>0</td>\n",
       "      <td>0</td>\n",
       "      <td>1</td>\n",
       "      <td>0</td>\n",
       "      <td>0</td>\n",
       "    </tr>\n",
       "    <tr>\n",
       "      <th>5</th>\n",
       "      <td>68</td>\n",
       "      <td>Male</td>\n",
       "      <td>0</td>\n",
       "      <td>0</td>\n",
       "      <td>0</td>\n",
       "      <td>0</td>\n",
       "      <td>0</td>\n",
       "      <td>0</td>\n",
       "      <td>0</td>\n",
       "      <td>0</td>\n",
       "      <td>0</td>\n",
       "      <td>1</td>\n",
       "    </tr>\n",
       "    <tr>\n",
       "      <th>6</th>\n",
       "      <td>64</td>\n",
       "      <td>Male</td>\n",
       "      <td>0</td>\n",
       "      <td>1</td>\n",
       "      <td>1</td>\n",
       "      <td>0</td>\n",
       "      <td>0</td>\n",
       "      <td>0</td>\n",
       "      <td>0</td>\n",
       "      <td>0</td>\n",
       "      <td>0</td>\n",
       "      <td>1</td>\n",
       "    </tr>\n",
       "    <tr>\n",
       "      <th>7</th>\n",
       "      <td>55</td>\n",
       "      <td>Male</td>\n",
       "      <td>1</td>\n",
       "      <td>1</td>\n",
       "      <td>0</td>\n",
       "      <td>0</td>\n",
       "      <td>0</td>\n",
       "      <td>1</td>\n",
       "      <td>0</td>\n",
       "      <td>0</td>\n",
       "      <td>0</td>\n",
       "      <td>1</td>\n",
       "    </tr>\n",
       "    <tr>\n",
       "      <th>8</th>\n",
       "      <td>53</td>\n",
       "      <td>Male</td>\n",
       "      <td>1</td>\n",
       "      <td>1</td>\n",
       "      <td>1</td>\n",
       "      <td>0</td>\n",
       "      <td>0</td>\n",
       "      <td>0</td>\n",
       "      <td>0</td>\n",
       "      <td>0</td>\n",
       "      <td>0</td>\n",
       "      <td>0</td>\n",
       "    </tr>\n",
       "    <tr>\n",
       "      <th>9</th>\n",
       "      <td>60</td>\n",
       "      <td>Male</td>\n",
       "      <td>1</td>\n",
       "      <td>1</td>\n",
       "      <td>1</td>\n",
       "      <td>0</td>\n",
       "      <td>0</td>\n",
       "      <td>0</td>\n",
       "      <td>0</td>\n",
       "      <td>0</td>\n",
       "      <td>0</td>\n",
       "      <td>0</td>\n",
       "    </tr>\n",
       "  </tbody>\n",
       "</table>\n",
       "</div>"
      ],
      "text/plain": [
       "   Age Gender  Diabetes  Hypertension  Cardiovascular disease  Pneumonia  \\\n",
       "0   72   Male         1             1                       0          0   \n",
       "1   72   Male         0             0                       0          0   \n",
       "2   62   Male         1             1                       1          0   \n",
       "3   68   Male         0             0                       0          0   \n",
       "4   60   Male         0             0                       0          1   \n",
       "5   68   Male         0             0                       0          0   \n",
       "6   64   Male         0             1                       1          0   \n",
       "7   55   Male         1             1                       0          0   \n",
       "8   53   Male         1             1                       1          0   \n",
       "9   60   Male         1             1                       1          0   \n",
       "\n",
       "   Renal_failure  Obesity  Bowel  Respiratory   hepatatis  \\\n",
       "0              0        1      0             0          0   \n",
       "1              0        0      0             0          0   \n",
       "2              0        0      0             0          0   \n",
       "3              0        0      0             0          0   \n",
       "4              1        0      0             1          0   \n",
       "5              0        0      0             0          0   \n",
       "6              0        0      0             0          0   \n",
       "7              0        1      0             0          0   \n",
       "8              0        0      0             0          0   \n",
       "9              0        0      0             0          0   \n",
       "\n",
       "   Cardiovascular_Diseases  \n",
       "0                        1  \n",
       "1                        0  \n",
       "2                        0  \n",
       "3                        0  \n",
       "4                        0  \n",
       "5                        1  \n",
       "6                        1  \n",
       "7                        1  \n",
       "8                        0  \n",
       "9                        0  "
      ]
     },
     "execution_count": 68,
     "metadata": {},
     "output_type": "execute_result"
    }
   ],
   "source": [
    "dataset.head(10)"
   ]
  },
  {
   "cell_type": "code",
   "execution_count": 69,
   "id": "78b82990",
   "metadata": {},
   "outputs": [
    {
     "data": {
      "text/plain": [
       "Age                        0\n",
       "Gender                     0\n",
       "Diabetes                   0\n",
       "Hypertension               0\n",
       "Cardiovascular disease     0\n",
       "Pneumonia                  0\n",
       "Renal_failure              0\n",
       "Obesity                    0\n",
       "Bowel                      0\n",
       "Respiratory                0\n",
       "hepatatis                  0\n",
       "Cardiovascular_Diseases    0\n",
       "dtype: int64"
      ]
     },
     "execution_count": 69,
     "metadata": {},
     "output_type": "execute_result"
    }
   ],
   "source": [
    "dataset.isna().sum()"
   ]
  },
  {
   "cell_type": "code",
   "execution_count": 70,
   "id": "f0e32162",
   "metadata": {},
   "outputs": [
    {
     "data": {
      "text/plain": [
       "array(['Male', 'Female'], dtype=object)"
      ]
     },
     "execution_count": 70,
     "metadata": {},
     "output_type": "execute_result"
    }
   ],
   "source": [
    "dataset['Gender'].unique()"
   ]
  },
  {
   "cell_type": "code",
   "execution_count": 71,
   "id": "56c62239",
   "metadata": {},
   "outputs": [
    {
     "data": {
      "text/plain": [
       "array([1, 0])"
      ]
     },
     "execution_count": 71,
     "metadata": {},
     "output_type": "execute_result"
    }
   ],
   "source": [
    "# Import label encoder\n",
    "from sklearn import preprocessing\n",
    "\n",
    "# label_encoder object knows how to understand word labels.\n",
    "label_encoder = preprocessing.LabelEncoder()\n",
    "\n",
    "# Encode labels in column 'Gender'.\n",
    "dataset['Gender']= label_encoder.fit_transform(dataset['Gender'])\n",
    "\n",
    "dataset['Gender'].unique()\n",
    "#male=1,Female=0\n"
   ]
  },
  {
   "cell_type": "code",
   "execution_count": 72,
   "id": "9731961d",
   "metadata": {},
   "outputs": [
    {
     "data": {
      "text/html": [
       "<div>\n",
       "<style scoped>\n",
       "    .dataframe tbody tr th:only-of-type {\n",
       "        vertical-align: middle;\n",
       "    }\n",
       "\n",
       "    .dataframe tbody tr th {\n",
       "        vertical-align: top;\n",
       "    }\n",
       "\n",
       "    .dataframe thead th {\n",
       "        text-align: right;\n",
       "    }\n",
       "</style>\n",
       "<table border=\"1\" class=\"dataframe\">\n",
       "  <thead>\n",
       "    <tr style=\"text-align: right;\">\n",
       "      <th></th>\n",
       "      <th>Age</th>\n",
       "      <th>Gender</th>\n",
       "      <th>Diabetes</th>\n",
       "      <th>Hypertension</th>\n",
       "      <th>Cardiovascular disease</th>\n",
       "      <th>Pneumonia</th>\n",
       "      <th>Renal_failure</th>\n",
       "      <th>Obesity</th>\n",
       "      <th>Bowel</th>\n",
       "      <th>Respiratory</th>\n",
       "      <th>hepatatis</th>\n",
       "      <th>Cardiovascular_Diseases</th>\n",
       "    </tr>\n",
       "  </thead>\n",
       "  <tbody>\n",
       "    <tr>\n",
       "      <th>0</th>\n",
       "      <td>72</td>\n",
       "      <td>1</td>\n",
       "      <td>1</td>\n",
       "      <td>1</td>\n",
       "      <td>0</td>\n",
       "      <td>0</td>\n",
       "      <td>0</td>\n",
       "      <td>1</td>\n",
       "      <td>0</td>\n",
       "      <td>0</td>\n",
       "      <td>0</td>\n",
       "      <td>1</td>\n",
       "    </tr>\n",
       "    <tr>\n",
       "      <th>1</th>\n",
       "      <td>72</td>\n",
       "      <td>1</td>\n",
       "      <td>0</td>\n",
       "      <td>0</td>\n",
       "      <td>0</td>\n",
       "      <td>0</td>\n",
       "      <td>0</td>\n",
       "      <td>0</td>\n",
       "      <td>0</td>\n",
       "      <td>0</td>\n",
       "      <td>0</td>\n",
       "      <td>0</td>\n",
       "    </tr>\n",
       "    <tr>\n",
       "      <th>2</th>\n",
       "      <td>62</td>\n",
       "      <td>1</td>\n",
       "      <td>1</td>\n",
       "      <td>1</td>\n",
       "      <td>1</td>\n",
       "      <td>0</td>\n",
       "      <td>0</td>\n",
       "      <td>0</td>\n",
       "      <td>0</td>\n",
       "      <td>0</td>\n",
       "      <td>0</td>\n",
       "      <td>0</td>\n",
       "    </tr>\n",
       "    <tr>\n",
       "      <th>3</th>\n",
       "      <td>68</td>\n",
       "      <td>1</td>\n",
       "      <td>0</td>\n",
       "      <td>0</td>\n",
       "      <td>0</td>\n",
       "      <td>0</td>\n",
       "      <td>0</td>\n",
       "      <td>0</td>\n",
       "      <td>0</td>\n",
       "      <td>0</td>\n",
       "      <td>0</td>\n",
       "      <td>0</td>\n",
       "    </tr>\n",
       "    <tr>\n",
       "      <th>4</th>\n",
       "      <td>60</td>\n",
       "      <td>1</td>\n",
       "      <td>0</td>\n",
       "      <td>0</td>\n",
       "      <td>0</td>\n",
       "      <td>1</td>\n",
       "      <td>1</td>\n",
       "      <td>0</td>\n",
       "      <td>0</td>\n",
       "      <td>1</td>\n",
       "      <td>0</td>\n",
       "      <td>0</td>\n",
       "    </tr>\n",
       "  </tbody>\n",
       "</table>\n",
       "</div>"
      ],
      "text/plain": [
       "   Age  Gender  Diabetes  Hypertension  Cardiovascular disease  Pneumonia  \\\n",
       "0   72       1         1             1                       0          0   \n",
       "1   72       1         0             0                       0          0   \n",
       "2   62       1         1             1                       1          0   \n",
       "3   68       1         0             0                       0          0   \n",
       "4   60       1         0             0                       0          1   \n",
       "\n",
       "   Renal_failure  Obesity  Bowel  Respiratory   hepatatis  \\\n",
       "0              0        1      0             0          0   \n",
       "1              0        0      0             0          0   \n",
       "2              0        0      0             0          0   \n",
       "3              0        0      0             0          0   \n",
       "4              1        0      0             1          0   \n",
       "\n",
       "   Cardiovascular_Diseases  \n",
       "0                        1  \n",
       "1                        0  \n",
       "2                        0  \n",
       "3                        0  \n",
       "4                        0  "
      ]
     },
     "execution_count": 72,
     "metadata": {},
     "output_type": "execute_result"
    }
   ],
   "source": [
    "dataset.head()"
   ]
  },
  {
   "cell_type": "code",
   "execution_count": 73,
   "id": "bb1cf175",
   "metadata": {},
   "outputs": [
    {
     "name": "stdout",
     "output_type": "stream",
     "text": [
      "# of patients in original data: 3498\n"
     ]
    }
   ],
   "source": [
    "print(\"# of patients in original data: \" +str(len(dataset.index)))"
   ]
  },
  {
   "cell_type": "code",
   "execution_count": 74,
   "id": "81903ea0",
   "metadata": {},
   "outputs": [
    {
     "data": {
      "text/html": [
       "<div>\n",
       "<style scoped>\n",
       "    .dataframe tbody tr th:only-of-type {\n",
       "        vertical-align: middle;\n",
       "    }\n",
       "\n",
       "    .dataframe tbody tr th {\n",
       "        vertical-align: top;\n",
       "    }\n",
       "\n",
       "    .dataframe thead th {\n",
       "        text-align: right;\n",
       "    }\n",
       "</style>\n",
       "<table border=\"1\" class=\"dataframe\">\n",
       "  <thead>\n",
       "    <tr style=\"text-align: right;\">\n",
       "      <th></th>\n",
       "      <th>Age</th>\n",
       "      <th>Gender</th>\n",
       "      <th>Diabetes</th>\n",
       "      <th>Hypertension</th>\n",
       "      <th>Cardiovascular disease</th>\n",
       "      <th>Pneumonia</th>\n",
       "      <th>Obesity</th>\n",
       "      <th>Respiratory</th>\n",
       "      <th>Cardiovascular_Diseases</th>\n",
       "    </tr>\n",
       "  </thead>\n",
       "  <tbody>\n",
       "    <tr>\n",
       "      <th>0</th>\n",
       "      <td>72</td>\n",
       "      <td>1</td>\n",
       "      <td>1</td>\n",
       "      <td>1</td>\n",
       "      <td>0</td>\n",
       "      <td>0</td>\n",
       "      <td>1</td>\n",
       "      <td>0</td>\n",
       "      <td>1</td>\n",
       "    </tr>\n",
       "    <tr>\n",
       "      <th>1</th>\n",
       "      <td>72</td>\n",
       "      <td>1</td>\n",
       "      <td>0</td>\n",
       "      <td>0</td>\n",
       "      <td>0</td>\n",
       "      <td>0</td>\n",
       "      <td>0</td>\n",
       "      <td>0</td>\n",
       "      <td>0</td>\n",
       "    </tr>\n",
       "    <tr>\n",
       "      <th>2</th>\n",
       "      <td>62</td>\n",
       "      <td>1</td>\n",
       "      <td>1</td>\n",
       "      <td>1</td>\n",
       "      <td>1</td>\n",
       "      <td>0</td>\n",
       "      <td>0</td>\n",
       "      <td>0</td>\n",
       "      <td>0</td>\n",
       "    </tr>\n",
       "    <tr>\n",
       "      <th>3</th>\n",
       "      <td>68</td>\n",
       "      <td>1</td>\n",
       "      <td>0</td>\n",
       "      <td>0</td>\n",
       "      <td>0</td>\n",
       "      <td>0</td>\n",
       "      <td>0</td>\n",
       "      <td>0</td>\n",
       "      <td>0</td>\n",
       "    </tr>\n",
       "    <tr>\n",
       "      <th>4</th>\n",
       "      <td>60</td>\n",
       "      <td>1</td>\n",
       "      <td>0</td>\n",
       "      <td>0</td>\n",
       "      <td>0</td>\n",
       "      <td>1</td>\n",
       "      <td>0</td>\n",
       "      <td>1</td>\n",
       "      <td>0</td>\n",
       "    </tr>\n",
       "    <tr>\n",
       "      <th>...</th>\n",
       "      <td>...</td>\n",
       "      <td>...</td>\n",
       "      <td>...</td>\n",
       "      <td>...</td>\n",
       "      <td>...</td>\n",
       "      <td>...</td>\n",
       "      <td>...</td>\n",
       "      <td>...</td>\n",
       "      <td>...</td>\n",
       "    </tr>\n",
       "    <tr>\n",
       "      <th>3493</th>\n",
       "      <td>64</td>\n",
       "      <td>0</td>\n",
       "      <td>0</td>\n",
       "      <td>1</td>\n",
       "      <td>0</td>\n",
       "      <td>0</td>\n",
       "      <td>0</td>\n",
       "      <td>0</td>\n",
       "      <td>1</td>\n",
       "    </tr>\n",
       "    <tr>\n",
       "      <th>3494</th>\n",
       "      <td>52</td>\n",
       "      <td>1</td>\n",
       "      <td>0</td>\n",
       "      <td>0</td>\n",
       "      <td>0</td>\n",
       "      <td>0</td>\n",
       "      <td>0</td>\n",
       "      <td>0</td>\n",
       "      <td>1</td>\n",
       "    </tr>\n",
       "    <tr>\n",
       "      <th>3495</th>\n",
       "      <td>63</td>\n",
       "      <td>1</td>\n",
       "      <td>0</td>\n",
       "      <td>0</td>\n",
       "      <td>0</td>\n",
       "      <td>0</td>\n",
       "      <td>0</td>\n",
       "      <td>0</td>\n",
       "      <td>0</td>\n",
       "    </tr>\n",
       "    <tr>\n",
       "      <th>3496</th>\n",
       "      <td>23</td>\n",
       "      <td>1</td>\n",
       "      <td>1</td>\n",
       "      <td>0</td>\n",
       "      <td>0</td>\n",
       "      <td>0</td>\n",
       "      <td>0</td>\n",
       "      <td>0</td>\n",
       "      <td>0</td>\n",
       "    </tr>\n",
       "    <tr>\n",
       "      <th>3497</th>\n",
       "      <td>59</td>\n",
       "      <td>1</td>\n",
       "      <td>0</td>\n",
       "      <td>0</td>\n",
       "      <td>0</td>\n",
       "      <td>1</td>\n",
       "      <td>0</td>\n",
       "      <td>0</td>\n",
       "      <td>0</td>\n",
       "    </tr>\n",
       "  </tbody>\n",
       "</table>\n",
       "<p>3498 rows × 9 columns</p>\n",
       "</div>"
      ],
      "text/plain": [
       "      Age  Gender  Diabetes  Hypertension  Cardiovascular disease  Pneumonia  \\\n",
       "0      72       1         1             1                       0          0   \n",
       "1      72       1         0             0                       0          0   \n",
       "2      62       1         1             1                       1          0   \n",
       "3      68       1         0             0                       0          0   \n",
       "4      60       1         0             0                       0          1   \n",
       "...   ...     ...       ...           ...                     ...        ...   \n",
       "3493   64       0         0             1                       0          0   \n",
       "3494   52       1         0             0                       0          0   \n",
       "3495   63       1         0             0                       0          0   \n",
       "3496   23       1         1             0                       0          0   \n",
       "3497   59       1         0             0                       0          1   \n",
       "\n",
       "      Obesity  Respiratory   Cardiovascular_Diseases  \n",
       "0           1             0                        1  \n",
       "1           0             0                        0  \n",
       "2           0             0                        0  \n",
       "3           0             0                        0  \n",
       "4           0             1                        0  \n",
       "...       ...           ...                      ...  \n",
       "3493        0             0                        1  \n",
       "3494        0             0                        1  \n",
       "3495        0             0                        0  \n",
       "3496        0             0                        0  \n",
       "3497        0             0                        0  \n",
       "\n",
       "[3498 rows x 9 columns]"
      ]
     },
     "execution_count": 74,
     "metadata": {},
     "output_type": "execute_result"
    }
   ],
   "source": [
    "dataset.drop(labels=['Bowel','hepatatis','Renal_failure'],axis=1)"
   ]
  },
  {
   "cell_type": "code",
   "execution_count": 75,
   "id": "576127d0",
   "metadata": {},
   "outputs": [],
   "source": [
    "#Data collection done\n",
    "#Analyzing Data\n",
    "#Using seaborn as sns"
   ]
  },
  {
   "cell_type": "code",
   "execution_count": 76,
   "id": "984b2771",
   "metadata": {},
   "outputs": [
    {
     "data": {
      "text/plain": [
       "<AxesSubplot:xlabel='Cardiovascular_Diseases', ylabel='count'>"
      ]
     },
     "execution_count": 76,
     "metadata": {},
     "output_type": "execute_result"
    },
    {
     "data": {
      "image/png": "[encoded data removed]",
      "text/plain": [
       "<Figure size 432x288 with 1 Axes>"
      ]
     },
     "metadata": {
      "needs_background": "light"
     },
     "output_type": "display_data"
    }
   ],
   "source": [
    "sns.countplot(x=\"Cardiovascular_Diseases\", data=dataset)"
   ]
  },
  {
   "cell_type": "code",
   "execution_count": 77,
   "id": "de1d4ac6",
   "metadata": {
    "scrolled": true
   },
   "outputs": [
    {
     "data": {
      "text/plain": [
       "<AxesSubplot:xlabel='Cardiovascular_Diseases', ylabel='count'>"
      ]
     },
     "execution_count": 77,
     "metadata": {},
     "output_type": "execute_result"
    },
    {
     "data": {
      "image/png": "[encoded data removed]",
      "text/plain": [
       "<Figure size 432x288 with 1 Axes>"
      ]
     },
     "metadata": {
      "needs_background": "light"
     },
     "output_type": "display_data"
    }
   ],
   "source": [
    "#How many of them were males and how many were females\n",
    "sns.countplot(x=\"Cardiovascular_Diseases\", hue=\"Gender\", data=dataset)"
   ]
  },
  {
   "cell_type": "code",
   "execution_count": 78,
   "id": "63004a65",
   "metadata": {},
   "outputs": [],
   "source": [
    "#Where 0 stands for female and 1 stands for male"
   ]
  },
  {
   "cell_type": "code",
   "execution_count": 79,
   "id": "dae3ff89",
   "metadata": {},
   "outputs": [
    {
     "data": {
      "text/plain": [
       "<AxesSubplot:xlabel='Cardiovascular_Diseases', ylabel='count'>"
      ]
     },
     "execution_count": 79,
     "metadata": {},
     "output_type": "execute_result"
    },
    {
     "data": {
      "image/png": "[encoded data removed]",
      "text/plain": [
       "<Figure size 432x288 with 1 Axes>"
      ]
     },
     "metadata": {
      "needs_background": "light"
     },
     "output_type": "display_data"
    }
   ],
   "source": [
    "sns.countplot(x=\"Cardiovascular_Diseases\", hue=\"Diabetes\", data=dataset)"
   ]
  },
  {
   "cell_type": "code",
   "execution_count": 80,
   "id": "eb1cb37d",
   "metadata": {
    "scrolled": true
   },
   "outputs": [
    {
     "data": {
      "text/plain": [
       "<AxesSubplot:xlabel='Cardiovascular_Diseases', ylabel='count'>"
      ]
     },
     "execution_count": 80,
     "metadata": {},
     "output_type": "execute_result"
    },
    {
     "data": {
      "image/png": "[encoded data removed]",
      "text/plain": [
       "<Figure size 432x288 with 1 Axes>"
      ]
     },
     "metadata": {
      "needs_background": "light"
     },
     "output_type": "display_data"
    }
   ],
   "source": [
    "sns.countplot(x=\"Cardiovascular_Diseases\", hue=\"Hypertension\", data=dataset)"
   ]
  },
  {
   "cell_type": "code",
   "execution_count": 81,
   "id": "15807203",
   "metadata": {},
   "outputs": [
    {
     "data": {
      "text/plain": [
       "<AxesSubplot:xlabel='Cardiovascular_Diseases', ylabel='count'>"
      ]
     },
     "execution_count": 81,
     "metadata": {},
     "output_type": "execute_result"
    },
    {
     "data": {
      "image/png": "[encoded data removed]",
      "text/plain": [
       "<Figure size 432x288 with 1 Axes>"
      ]
     },
     "metadata": {
      "needs_background": "light"
     },
     "output_type": "display_data"
    }
   ],
   "source": [
    "sns.countplot(x=\"Cardiovascular_Diseases\", hue=\"Pneumonia\", data=dataset)"
   ]
  },
  {
   "cell_type": "code",
   "execution_count": 82,
   "id": "9ec95eae",
   "metadata": {},
   "outputs": [
    {
     "data": {
      "text/plain": [
       "<AxesSubplot:ylabel='Frequency'>"
      ]
     },
     "execution_count": 82,
     "metadata": {},
     "output_type": "execute_result"
    },
    {
     "data": {
      "image/png": "[encoded data removed]",
      "text/plain": [
       "<Figure size 432x288 with 1 Axes>"
      ]
     },
     "metadata": {
      "needs_background": "light"
     },
     "output_type": "display_data"
    }
   ],
   "source": [
    "dataset[\"Age\"].plot.hist()"
   ]
  },
  {
   "cell_type": "code",
   "execution_count": 83,
   "id": "fae71fc5",
   "metadata": {},
   "outputs": [],
   "source": [
    "#Analysis Done\n",
    "#Now Data wrangling"
   ]
  },
  {
   "cell_type": "code",
   "execution_count": 84,
   "id": "e5742586",
   "metadata": {},
   "outputs": [
    {
     "data": {
      "text/plain": [
       "<AxesSubplot:>"
      ]
     },
     "execution_count": 84,
     "metadata": {},
     "output_type": "execute_result"
    },
    {
     "data": {
      "image/png": "[encoded data removed]",
      "text/plain": [
       "<Figure size 432x288 with 1 Axes>"
      ]
     },
     "metadata": {
      "needs_background": "light"
     },
     "output_type": "display_data"
    }
   ],
   "source": [
    "sns.heatmap(dataset.isnull(), yticklabels=False, cbar=False)"
   ]
  },
  {
   "cell_type": "code",
   "execution_count": 85,
   "id": "58ddcf67",
   "metadata": {},
   "outputs": [],
   "source": [
    "#Now training and testing dataset will be split"
   ]
  },
  {
   "cell_type": "code",
   "execution_count": 86,
   "id": "ebcbb626",
   "metadata": {},
   "outputs": [],
   "source": [
    "x=dataset.drop(\"Cardiovascular_Diseases\",axis=1)\n",
    "y=dataset[\"Cardiovascular_Diseases\"]"
   ]
  },
  {
   "cell_type": "code",
   "execution_count": 87,
   "id": "fd576430",
   "metadata": {},
   "outputs": [
    {
     "name": "stdout",
     "output_type": "stream",
     "text": [
      "      Age  Gender  Diabetes  Hypertension  Cardiovascular disease  Pneumonia  \\\n",
      "0      72       1         1             1                       0          0   \n",
      "1      72       1         0             0                       0          0   \n",
      "2      62       1         1             1                       1          0   \n",
      "3      68       1         0             0                       0          0   \n",
      "4      60       1         0             0                       0          1   \n",
      "...   ...     ...       ...           ...                     ...        ...   \n",
      "3493   64       0         0             1                       0          0   \n",
      "3494   52       1         0             0                       0          0   \n",
      "3495   63       1         0             0                       0          0   \n",
      "3496   23       1         1             0                       0          0   \n",
      "3497   59       1         0             0                       0          1   \n",
      "\n",
      "      Renal_failure  Obesity  Bowel  Respiratory   hepatatis  \n",
      "0                 0        1      0             0          0  \n",
      "1                 0        0      0             0          0  \n",
      "2                 0        0      0             0          0  \n",
      "3                 0        0      0             0          0  \n",
      "4                 1        0      0             1          0  \n",
      "...             ...      ...    ...           ...        ...  \n",
      "3493              0        0      0             0          0  \n",
      "3494              0        0      0             0          0  \n",
      "3495              0        0      0             0          0  \n",
      "3496              0        0      0             0          0  \n",
      "3497              0        0      0             0          0  \n",
      "\n",
      "[3498 rows x 11 columns]\n"
     ]
    }
   ],
   "source": [
    "print(x)"
   ]
  },
  {
   "cell_type": "code",
   "execution_count": 88,
   "id": "c1e96650",
   "metadata": {},
   "outputs": [
    {
     "name": "stdout",
     "output_type": "stream",
     "text": [
      "0       1\n",
      "1       0\n",
      "2       0\n",
      "3       0\n",
      "4       0\n",
      "       ..\n",
      "3493    1\n",
      "3494    1\n",
      "3495    0\n",
      "3496    0\n",
      "3497    0\n",
      "Name: Cardiovascular_Diseases, Length: 3498, dtype: int64\n"
     ]
    }
   ],
   "source": [
    "print(y)"
   ]
  },
  {
   "cell_type": "code",
   "execution_count": 89,
   "id": "74cafce8",
   "metadata": {},
   "outputs": [],
   "source": [
    "from sklearn.model_selection import train_test_split"
   ]
  },
  {
   "cell_type": "code",
   "execution_count": 90,
   "id": "194cdb30",
   "metadata": {},
   "outputs": [],
   "source": [
    "x_train, x_test, y_train, y_test = train_test_split(x, y, test_size=0.3, random_state=2)"
   ]
  },
  {
   "cell_type": "code",
   "execution_count": 91,
   "id": "29be7d41",
   "metadata": {},
   "outputs": [
    {
     "data": {
      "text/plain": [
       "((2448, 11), (1050, 11))"
      ]
     },
     "execution_count": 91,
     "metadata": {},
     "output_type": "execute_result"
    }
   ],
   "source": [
    "x_train.shape,x_test.shape"
   ]
  },
  {
   "cell_type": "markdown",
   "id": "fafee7e1",
   "metadata": {},
   "source": [
    "Logistic Regression"
   ]
  },
  {
   "cell_type": "code",
   "execution_count": 92,
   "id": "d7dc786b",
   "metadata": {},
   "outputs": [],
   "source": [
    "#LOGISTIC REGRESSION\n",
    "from sklearn.linear_model import LogisticRegression"
   ]
  },
  {
   "cell_type": "code",
   "execution_count": 93,
   "id": "29bb83e1",
   "metadata": {},
   "outputs": [],
   "source": [
    "logmodel=LogisticRegression(solver='lbfgs', max_iter=1000)"
   ]
  },
  {
   "cell_type": "code",
   "execution_count": 94,
   "id": "51b36535",
   "metadata": {},
   "outputs": [
    {
     "data": {
      "text/plain": [
       "LogisticRegression(max_iter=1000)"
      ]
     },
     "execution_count": 94,
     "metadata": {},
     "output_type": "execute_result"
    }
   ],
   "source": [
    "logmodel.fit(x_train,y_train)"
   ]
  },
  {
   "cell_type": "code",
   "execution_count": 96,
   "id": "664a9d64",
   "metadata": {},
   "outputs": [],
   "source": [
    "# accuracy score on training data\n",
    "x_train_prediction = logmodel.predict(x_train)\n",
    "training_data_accuracy = accuracy_score(x_train_prediction,y_train)"
   ]
  },
  {
   "cell_type": "code",
   "execution_count": 97,
   "id": "e503995d",
   "metadata": {},
   "outputs": [
    {
     "name": "stdout",
     "output_type": "stream",
     "text": [
      "Accuracy on Training data :  0.7422385620915033\n"
     ]
    }
   ],
   "source": [
    "print('Accuracy on Training data : ',training_data_accuracy)"
   ]
  },
  {
   "cell_type": "code",
   "execution_count": 98,
   "id": "3b2961be",
   "metadata": {},
   "outputs": [],
   "source": [
    "# accuracy score on test data\n",
    "x_test_prediction = logmodel.predict(x_test)\n",
    "test_data_accuracy = accuracy_score(x_test_prediction,y_test)"
   ]
  },
  {
   "cell_type": "code",
   "execution_count": 99,
   "id": "69f941be",
   "metadata": {},
   "outputs": [
    {
     "name": "stdout",
     "output_type": "stream",
     "text": [
      "Accuracy on Test data :  0.7476190476190476\n"
     ]
    }
   ],
   "source": [
    "print('Accuracy on Test data : ',test_data_accuracy)"
   ]
  },
  {
   "cell_type": "markdown",
   "id": "5f4d5e0e",
   "metadata": {},
   "source": [
    "Building a predictive system"
   ]
  },
  {
   "cell_type": "code",
   "execution_count": 110,
   "id": "027b04c9",
   "metadata": {},
   "outputs": [
    {
     "name": "stdout",
     "output_type": "stream",
     "text": [
      "You have NO risk of post covid cardiovascular disease\n"
     ]
    }
   ],
   "source": [
    "input_data = (62,0,0,0,0,0,0,0,0,0,0)\n",
    "#change input data to a numpy array\n",
    "input_data_as_numpy_array = np.asarray(input_data)\n",
    "#reshape the numpy array as we are predicting for only one instance\n",
    "input_data_reshaped = input_data_as_numpy_array.reshape(1,-1)\n",
    "\n",
    "prediction = logmodel.predict(input_data_reshaped)\n",
    "if prediction == 1:\n",
    "    print(\"You are at risk of having a Post Covid Cardiovascular disease\")\n",
    "else:\n",
    "    print(\"You have NO risk of post covid cardiovascular disease\")"
   ]
  },
  {
   "cell_type": "code",
   "execution_count": 111,
   "id": "3290a072",
   "metadata": {},
   "outputs": [],
   "source": [
    "from sklearn.metrics import classification_report"
   ]
  },
  {
   "cell_type": "code",
   "execution_count": 114,
   "id": "58459a39",
   "metadata": {},
   "outputs": [
    {
     "data": {
      "text/plain": [
       "'              precision    recall  f1-score   support\\n\\n           0       0.75      0.92      0.83      1635\\n           1       0.71      0.38      0.49       813\\n\\n    accuracy                           0.74      2448\\n   macro avg       0.73      0.65      0.66      2448\\nweighted avg       0.74      0.74      0.72      2448\\n'"
      ]
     },
     "execution_count": 114,
     "metadata": {},
     "output_type": "execute_result"
    }
   ],
   "source": [
    "classification_report(y_train,x_train_prediction)"
   ]
  },
  {
   "cell_type": "code",
   "execution_count": 120,
   "id": "31f0c24c",
   "metadata": {},
   "outputs": [],
   "source": [
    "from sklearn.metrics import confusion_matrix"
   ]
  },
  {
   "cell_type": "code",
   "execution_count": 115,
   "id": "fb8c980d",
   "metadata": {},
   "outputs": [
    {
     "data": {
      "text/plain": [
       "array([[664,  47],\n",
       "       [218, 121]], dtype=int64)"
      ]
     },
     "execution_count": 115,
     "metadata": {},
     "output_type": "execute_result"
    }
   ],
   "source": [
    "confusion_matrix(y_test, x_test_prediction)"
   ]
  },
  {
   "cell_type": "code",
   "execution_count": 121,
   "id": "80910c36",
   "metadata": {},
   "outputs": [],
   "source": [
    "# Confusion matrix\n",
    "from sklearn.model_selection import train_test_split\n",
    "from sklearn.linear_model import LogisticRegression\n",
    "from sklearn.metrics import plot_confusion_matrix"
   ]
  },
  {
   "cell_type": "code",
   "execution_count": 122,
   "id": "31121f3f",
   "metadata": {},
   "outputs": [],
   "source": [
    "x_train,x_test,y_train,y_test = train_test_split(x,y,random_state=0)"
   ]
  },
  {
   "cell_type": "code",
   "execution_count": 123,
   "id": "6802d974",
   "metadata": {},
   "outputs": [],
   "source": [
    "clf= LogisticRegression(max_iter=1000)\n",
    "clf.fit(x_train, y_train);"
   ]
  },
  {
   "cell_type": "code",
   "execution_count": 124,
   "id": "df4b6fba",
   "metadata": {},
   "outputs": [
    {
     "data": {
      "image/png": "[encoded data removed]",
      "text/plain": [
       "<Figure size 432x288 with 2 Axes>"
      ]
     },
     "metadata": {
      "needs_background": "light"
     },
     "output_type": "display_data"
    }
   ],
   "source": [
    "disp = plot_confusion_matrix(clf, x_test,y_test,cmap='Blues',values_format='.3g')"
   ]
  },
  {
   "cell_type": "code",
   "execution_count": null,
   "id": "11403e40",
   "metadata": {},
   "outputs": [],
   "source": [
    "#Random Forest Classifer"
   ]
  },
  {
   "cell_type": "code",
   "execution_count": 125,
   "id": "a3d37294",
   "metadata": {},
   "outputs": [
    {
     "data": {
      "text/plain": [
       "RandomForestClassifier()"
      ]
     },
     "execution_count": 125,
     "metadata": {},
     "output_type": "execute_result"
    }
   ],
   "source": [
    "#Import Random Forest Model\n",
    "from sklearn.ensemble import RandomForestClassifier\n",
    "\n",
    "#Create a Gaussian Classifier\n",
    "clf=RandomForestClassifier(n_estimators=100)\n",
    "\n",
    "#Train the model using the training sets y_pred=clf.predict(X_test)\n",
    "clf.fit(x_train,y_train)\n",
    "\n",
    "#y_pred=clf.predict(x_test)"
   ]
  },
  {
   "cell_type": "code",
   "execution_count": 126,
   "id": "16f7d3fa",
   "metadata": {},
   "outputs": [],
   "source": [
    "x_train_prediction = clf.predict(x_train)\n",
    "training_data_accuracy = accuracy_score(x_train_prediction,y_train)"
   ]
  },
  {
   "cell_type": "code",
   "execution_count": 127,
   "id": "8eea500e",
   "metadata": {},
   "outputs": [
    {
     "name": "stdout",
     "output_type": "stream",
     "text": [
      "Accuracy on Training data :  0.8955394586351506\n"
     ]
    }
   ],
   "source": [
    "print('Accuracy on Training data : ',training_data_accuracy)"
   ]
  },
  {
   "cell_type": "code",
   "execution_count": 128,
   "id": "552ed380",
   "metadata": {},
   "outputs": [],
   "source": [
    "# accuracy score on test data\n",
    "x_test_prediction = clf.predict(x_test)\n",
    "test_data_accuracy = accuracy_score(x_test_prediction,y_test)"
   ]
  },
  {
   "cell_type": "code",
   "execution_count": 129,
   "id": "2bf20ff0",
   "metadata": {
    "scrolled": true
   },
   "outputs": [
    {
     "name": "stdout",
     "output_type": "stream",
     "text": [
      "Accuracy on Test data :  0.8708571428571429\n"
     ]
    }
   ],
   "source": [
    "print('Accuracy on Test data : ',test_data_accuracy)"
   ]
  },
  {
   "cell_type": "markdown",
   "id": "a33efab8",
   "metadata": {},
   "source": [
    "Building a Predictive system for Random forest classifier"
   ]
  },
  {
   "cell_type": "code",
   "execution_count": 130,
   "id": "19ea7b00",
   "metadata": {},
   "outputs": [
    {
     "name": "stdout",
     "output_type": "stream",
     "text": [
      "You are at risk of having a Post Covid Cardiovascular disease\n"
     ]
    }
   ],
   "source": [
    "input_data = (62,0,0,0,0,0,0,0,0,0,0)\n",
    "#change input data to a numpy array\n",
    "input_data_as_numpy_array = np.asarray(input_data)\n",
    "#reshape the numpy array as we are predicting for only one instance\n",
    "input_data_reshaped = input_data_as_numpy_array.reshape(1,-1)\n",
    "\n",
    "prediction = clf.predict(input_data_reshaped)\n",
    "if prediction == 1:\n",
    "    print(\"You are at risk of having a Post Covid Cardiovascular disease\")\n",
    "else:\n",
    "    print(\"You have NO risk of post covid cardiovascular disease\")"
   ]
  },
  {
   "cell_type": "markdown",
   "id": "fa704dac",
   "metadata": {},
   "source": [
    "SVM"
   ]
  },
  {
   "cell_type": "code",
   "execution_count": 135,
   "id": "c299a71b",
   "metadata": {},
   "outputs": [
    {
     "name": "stdout",
     "output_type": "stream",
     "text": [
      "Accuracy on Training data :  0.7316050324056423\n"
     ]
    }
   ],
   "source": [
    "#Import svm model\n",
    "from sklearn import svm\n",
    "\n",
    "#Create a svm Classifier\n",
    "clf = svm.SVC(kernel='linear') # Linear Kernel\n",
    "\n",
    "#Train the model using the training sets\n",
    "clf.fit(x_train, y_train)\n",
    "\n",
    "#Predict the response for test dataset\n",
    "x_train_prediction = clf.predict(x_train)\n",
    "training_data_accuracy = accuracy_score(x_train_prediction,y_train)\n",
    "print('Accuracy on Training data : ',training_data_accuracy)"
   ]
  },
  {
   "cell_type": "code",
   "execution_count": 136,
   "id": "383b31c7",
   "metadata": {},
   "outputs": [],
   "source": [
    "# accuracy score on test data\n",
    "x_test_prediction = clf.predict(x_test)\n",
    "test_data_accuracy = accuracy_score(x_test_prediction,y_test)"
   ]
  },
  {
   "cell_type": "code",
   "execution_count": 137,
   "id": "13f9739b",
   "metadata": {},
   "outputs": [
    {
     "name": "stdout",
     "output_type": "stream",
     "text": [
      "Accuracy on Test data :  0.7257142857142858\n"
     ]
    }
   ],
   "source": [
    "print('Accuracy on Test data : ',test_data_accuracy)"
   ]
  },
  {
   "cell_type": "markdown",
   "id": "7625628b",
   "metadata": {},
   "source": [
    "Building a Predictive system for SVM"
   ]
  },
  {
   "cell_type": "code",
   "execution_count": 138,
   "id": "52d5deaf",
   "metadata": {},
   "outputs": [
    {
     "name": "stdout",
     "output_type": "stream",
     "text": [
      "You are at risk of having a Post Covid Cardiovascular disease\n"
     ]
    }
   ],
   "source": [
    "input_data = (62,0,0,0,0,0,0,0,0,0,0)\n",
    "#change input data to a numpy array\n",
    "input_data_as_numpy_array = np.asarray(input_data)\n",
    "#reshape the numpy array as we are predicting for only one instance\n",
    "input_data_reshaped = input_data_as_numpy_array.reshape(1,-1)\n",
    "\n",
    "prediction = clf.predict(input_data_reshaped)\n",
    "if prediction == 1:\n",
    "    print(\"You are at risk of having a Post Covid Cardiovascular disease\")\n",
    "else:\n",
    "    print(\"You have NO risk of post covid cardiovascular disease\")"
   ]
  },
  {
   "cell_type": "markdown",
   "id": "3858b80a",
   "metadata": {},
   "source": [
    "KNN"
   ]
  },
  {
   "cell_type": "code",
   "execution_count": 139,
   "id": "a18fb50b",
   "metadata": {},
   "outputs": [
    {
     "data": {
      "text/plain": [
       "KNeighborsClassifier()"
      ]
     },
     "execution_count": 139,
     "metadata": {},
     "output_type": "execute_result"
    }
   ],
   "source": [
    "#Import KNN\n",
    "from sklearn.neighbors import KNeighborsClassifier\n",
    "\n",
    "#Create KNN Classifier\n",
    "knn = KNeighborsClassifier(n_neighbors=5)\n",
    "\n",
    "#Train the model using the training sets\n",
    "knn.fit(x_train, y_train)\n",
    "\n",
    "#Predict the response for test dataset\n",
    "#y_pred = knn.predict(x_test)"
   ]
  },
  {
   "cell_type": "code",
   "execution_count": 140,
   "id": "3a999c7a",
   "metadata": {},
   "outputs": [],
   "source": [
    "x_train_prediction = knn.predict(x_train)\n",
    "training_data_accuracy = accuracy_score(x_train_prediction,y_train)"
   ]
  },
  {
   "cell_type": "code",
   "execution_count": 141,
   "id": "c6009b28",
   "metadata": {},
   "outputs": [
    {
     "name": "stdout",
     "output_type": "stream",
     "text": [
      "Accuracy on Training data :  0.8753335874952345\n"
     ]
    }
   ],
   "source": [
    "print('Accuracy on Training data : ',training_data_accuracy)"
   ]
  },
  {
   "cell_type": "code",
   "execution_count": 142,
   "id": "1122a7ce",
   "metadata": {},
   "outputs": [],
   "source": [
    "# accuracy score on test data\n",
    "x_test_prediction = knn.predict(x_test)\n",
    "test_data_accuracy = accuracy_score(x_test_prediction,y_test)"
   ]
  },
  {
   "cell_type": "code",
   "execution_count": 143,
   "id": "3cd4ba51",
   "metadata": {},
   "outputs": [
    {
     "name": "stdout",
     "output_type": "stream",
     "text": [
      "Accuracy on Test data :  0.848\n"
     ]
    }
   ],
   "source": [
    "print('Accuracy on Test data : ',test_data_accuracy)"
   ]
  },
  {
   "cell_type": "markdown",
   "id": "c9cd510d",
   "metadata": {},
   "source": [
    "Building a Predictive system for KNN"
   ]
  },
  {
   "cell_type": "code",
   "execution_count": 144,
   "id": "6d4dd3bb",
   "metadata": {},
   "outputs": [
    {
     "name": "stdout",
     "output_type": "stream",
     "text": [
      "You have NO risk of post covid cardiovascular disease\n"
     ]
    }
   ],
   "source": [
    "input_data = (62,0,0,0,0,0,0,0,0,0,0)\n",
    "#change input data to a numpy array\n",
    "input_data_as_numpy_array = np.asarray(input_data)\n",
    "#reshape the numpy array as we are predicting for only one instance\n",
    "input_data_reshaped = input_data_as_numpy_array.reshape(1,-1)\n",
    "\n",
    "prediction = knn.predict(input_data_reshaped)\n",
    "if prediction == 1:\n",
    "    print(\"You are at risk of having a Post Covid Cardiovascular disease\")\n",
    "else:\n",
    "    print(\"You have NO risk of post covid cardiovascular disease\")"
   ]
  },
  {
   "cell_type": "markdown",
   "id": "2b219304",
   "metadata": {},
   "source": [
    "Applying Cross Validation"
   ]
  },
  {
   "cell_type": "code",
   "execution_count": 145,
   "id": "4ceffef5",
   "metadata": {},
   "outputs": [],
   "source": [
    "from sklearn.model_selection import cross_val_score, StratifiedKFold, train_test_split, KFold"
   ]
  },
  {
   "cell_type": "code",
   "execution_count": 151,
   "id": "ecf25fc6",
   "metadata": {},
   "outputs": [
    {
     "name": "stdout",
     "output_type": "stream",
     "text": [
      "[('KNN', KNeighborsClassifier()), ('LR', LogisticRegression())]\n"
     ]
    }
   ],
   "source": [
    "models = []\n",
    "models.append(('KNN',KNeighborsClassifier()))\n",
    "models.append(('LR',LogisticRegression()))\n",
    "print(models)"
   ]
  },
  {
   "cell_type": "code",
   "execution_count": 167,
   "id": "398bb014",
   "metadata": {},
   "outputs": [
    {
     "data": {
      "text/plain": [
       "Text(0.5, 0, 'Age')"
      ]
     },
     "execution_count": 167,
     "metadata": {},
     "output_type": "execute_result"
    },
    {
     "data": {
      "image/png": "[encoded data removed]",
      "text/plain": [
       "<Figure size 432x288 with 1 Axes>"
      ]
     },
     "metadata": {
      "needs_background": "light"
     },
     "output_type": "display_data"
    }
   ],
   "source": [
    "dataset[\"Age\"].plot.hist(color=\"pink\")\n",
    "plt.xlabel('Age')"
   ]
  },
  {
   "cell_type": "code",
   "execution_count": 174,
   "id": "4e2a86de",
   "metadata": {},
   "outputs": [
    {
     "name": "stderr",
     "output_type": "stream",
     "text": [
      "C:\\Users\\spekande\\anaconda3\\lib\\site-packages\\seaborn\\categorical.py:1296: UserWarning: 65.7% of the points cannot be placed; you may want to decrease the size of the markers or use stripplot.\n",
      "  warnings.warn(msg, UserWarning)\n",
      "C:\\Users\\spekande\\anaconda3\\lib\\site-packages\\seaborn\\categorical.py:1296: UserWarning: 14.3% of the points cannot be placed; you may want to decrease the size of the markers or use stripplot.\n",
      "  warnings.warn(msg, UserWarning)\n"
     ]
    },
    {
     "data": {
      "text/plain": [
       "<seaborn.axisgrid.FacetGrid at 0x2005a290520>"
      ]
     },
     "execution_count": 174,
     "metadata": {},
     "output_type": "execute_result"
    },
    {
     "data": {
      "image/png": "[encoded data removed]",
      "text/plain": [
       "<Figure size 404.875x360 with 1 Axes>"
      ]
     },
     "metadata": {
      "needs_background": "light"
     },
     "output_type": "display_data"
    }
   ],
   "source": [
    "sns.catplot(x=\"Diabetes\", y=\"Age\",hue=\"Gender\",kind=\"swarm\",data=dataset)\n",
    "#0 is no Diabetes, 1 is Diabetes"
   ]
  },
  {
   "cell_type": "code",
   "execution_count": 173,
   "id": "f19264f7",
   "metadata": {},
   "outputs": [
    {
     "data": {
      "text/plain": [
       "<seaborn.axisgrid.FacetGrid at 0x2005a3e7d30>"
      ]
     },
     "execution_count": 173,
     "metadata": {},
     "output_type": "execute_result"
    },
    {
     "data": {
      "image/png": "[encoded data removed]",
      "text/plain": [
       "<Figure size 404.875x360 with 1 Axes>"
      ]
     },
     "metadata": {
      "needs_background": "light"
     },
     "output_type": "display_data"
    }
   ],
   "source": [
    "sns.catplot(x=\"Hypertension\", y=\"Age\",hue=\"Gender\",data=dataset)"
   ]
  }
 ],
 "metadata": {
  "kernelspec": {
   "display_name": "Python 3",
   "language": "python",
   "name": "python3"
  },
  "language_info": {
   "codemirror_mode": {
    "name": "ipython",
    "version": 3
   },
   "file_extension": ".py",
   "mimetype": "text/x-python",
   "name": "python",
   "nbconvert_exporter": "python",
   "pygments_lexer": "ipython3",
   "version": "3.8.8"
  }
 },
 "nbformat": 4,
 "nbformat_minor": 5
}
